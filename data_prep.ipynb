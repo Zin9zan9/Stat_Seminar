{
 "cells": [
  {
   "cell_type": "code",
   "execution_count": 5,
   "metadata": {},
   "outputs": [],
   "source": [
    "import pandas as pd\n",
    "import numpy as np\n",
    "from sklearn.model_selection import train_test_split\n",
    "from sklearn.neighbors import KDTree\n",
    "\n",
    "rng = np.random.RandomState(0)"
   ]
  },
  {
   "cell_type": "code",
   "execution_count": 2,
   "metadata": {},
   "outputs": [],
   "source": [
    "df = pd.read_csv('Laptop-Preise.csv', sep=';', decimal=',')\n",
    "df = df[df.extern_Schnittstellen != 2300] # Ausreißer löschen\n",
    "df = df.reset_index(drop=True) # Reset Index\n",
    "df.drop(['Betriebssystem_OHNE', 'Betriebssystem_Mac', 'Marke_Dell'], axis=1) # Mac und Marke_Apple sind identische Merkmale\n",
    "df_noPrice = df.drop('Preis', axis=1)\n",
    "error_mse = pd.DataFrame(columns=['chance', 'LM', 'KNN_1', 'KNN_3', 'KNN_5'])\n",
    "error_stdErr = pd.DataFrame(columns=['chance', 'LM', 'KNN_1', 'KNN_3', 'KNN_5'])"
   ]
  },
  {
   "cell_type": "code",
   "execution_count": 46,
   "metadata": {},
   "outputs": [],
   "source": [
    "train_values, test_values, train_labels, test_labels = train_test_split(df_noPrice, df['Preis'], test_size=0.01)\n",
    "\n",
    "def del_ran(df, chance):\n",
    "    rand_array = np.random.rand(df.shape[0])\n",
    "    delete_entries = rand_array < chance\n",
    "    keep_entries = rand_array >= chance\n",
    "    return {'keep' : df.iloc[keep_entries], 'delete' : df.iloc[delete_entries]}\n",
    "# Umschreiben, dass es auch mit der aktuellen impute-Methode funktioniert"
   ]
  },
  {
   "cell_type": "code",
   "execution_count": 4,
   "metadata": {},
   "outputs": [],
   "source": [
    "temp = del_ran(df_noPrice, 0.01)\n",
    "# temp['keep']\n",
    "# temp['delete']"
   ]
  },
  {
   "cell_type": "code",
   "execution_count": null,
   "metadata": {},
   "outputs": [],
   "source": [
    "k = temp['keep']\n",
    "d = temp['delete']\n",
    "t = d.iloc[0].values.reshape(1, -1)\n",
    "\n",
    "print(len(t))\n",
    "print(k.shape)\n",
    "\n",
    "tree = KDTree(temp['keep'], leaf_size=5)              \n",
    "dist, ind = tree.query(t, k=3)\n",
    "\n",
    "\n",
    "print(dist)\n",
    "print(ind[0])\n",
    "# [641 501 201]\n",
    "\n",
    "pd.DataFrame(t)\n",
    "pd.DataFrame(k.at(ind[0]))\n",
    "\n",
    "# for t in d.iterrows():\n",
    "#     dist, ind = tree.query(t, k=3)\n",
    "#     print(ind, dist)\n"
   ]
  },
  {
   "cell_type": "code",
   "execution_count": 85,
   "metadata": {},
   "outputs": [],
   "source": [
    "tree = KDTree(train_values.values, leaf_size=5)\n",
    "\n",
    "def impute():\n",
    "    imputed_values = []\n",
    "\n",
    "    for index, entry in enumerate(test_values.values):\n",
    "        # print(entry)\n",
    "        dist, ind = tree.query([entry], k=5)\n",
    "        ind = ind[0]\n",
    "\n",
    "        current_impute_knn_1 = np.mean(train_labels.values[ind][0])\n",
    "        current_impute_knn_3 = np.mean(train_labels.values[ind][:3])\n",
    "        current_impute_knn_5 = np.mean(train_labels.values[ind])\n",
    "        print(train_labels.values[ind])\n",
    "        print(current_impute_knn_1, current_impute_knn_3, current_impute_knn_5)\n",
    "\n",
    "        imputed_values.append(current_impute_knn_1)\n",
    "\n",
    "\n",
    "        print(test_labels.values[index])\n",
    "        print(np.mean(train_labels.values[ind]), '\\n')\n",
    "        # print(train_values.values[ind])\n",
    "\n",
    "    errors = test_labels.values - imputed_values\n",
    "    print(errors)"
   ]
  },
  {
   "cell_type": "code",
   "execution_count": 86,
   "metadata": {},
   "outputs": [
    {
     "name": "stdout",
     "output_type": "stream",
     "text": [
      "[2079. 2149. 2249. 2299. 1899.]\n",
      "2079.0 2159.0 2135.0\n",
      "2079.0\n",
      "2135.0 \n",
      "\n",
      "[919. 899. 899. 899. 999.]\n",
      "919.0 905.6666666666666 923.0\n",
      "969.0\n",
      "923.0 \n",
      "\n",
      "[2149. 1899.  899. 2079. 1729.]\n",
      "2149.0 1649.0 1751.0\n",
      "1699.0\n",
      "1751.0 \n",
      "\n",
      "[2199. 1379. 1379. 1379. 1379.]\n",
      "2199.0 1652.3333333333333 1543.0\n",
      "2129.0\n",
      "1543.0 \n",
      "\n",
      "[556. 399. 519. 429. 619.]\n",
      "556.0 491.3333333333333 504.4\n",
      "499.0\n",
      "504.4 \n",
      "\n",
      "[1399. 1179.  899. 1249.  899.]\n",
      "1399.0 1159.0 1125.0\n",
      "1249.0\n",
      "1125.0 \n",
      "\n",
      "[349. 739. 619. 749. 579.]\n",
      "349.0 569.0 607.0\n",
      "479.0\n",
      "607.0 \n",
      "\n",
      "[1729. 1499. 1099. 1929. 2079.]\n",
      "1729.0 1442.3333333333333 1667.0\n",
      "1349.0\n",
      "1667.0 \n",
      "\n",
      "[ 899. 1099.  999.  699.  999.]\n",
      "899.0 999.0 939.0\n",
      "1299.0\n",
      "939.0 \n",
      "\n",
      "[1079. 1629.  849.  979.  849.]\n",
      "1079.0 1185.6666666666667 1077.0\n",
      "899.0\n",
      "1077.0 \n",
      "\n",
      "[504. 549. 549. 599. 719.]\n",
      "504.0 534.0 584.0\n",
      "549.0\n",
      "584.0 \n",
      "\n",
      "[   0.   50. -450.  -70.  -57. -150.  130. -380.  400. -180.   45.]\n"
     ]
    }
   ],
   "source": [
    "impute()"
   ]
  },
  {
   "cell_type": "code",
   "execution_count": 6,
   "metadata": {},
   "outputs": [
    {
     "name": "stdout",
     "output_type": "stream",
     "text": [
      "[[   0  281  227  115 1028]]\n",
      "[[  0.          61.05644929 100.01499888 100.98955392 101.30429408]]\n"
     ]
    }
   ],
   "source": [
    "tree = KDTree(df, leaf_size=5)              \n",
    "dist, ind = tree.query(df[:1], k=5) # Bei den Queries wird der Index 1 als Startindex verwendet? --> Nein\n",
    "print(ind)  # indices of 3 closest neighbors (Indizes bei 0 beginnend)\n",
    "print(dist)"
   ]
  }
 ],
 "metadata": {
  "kernelspec": {
   "display_name": "Python 3",
   "language": "python",
   "name": "python3"
  },
  "language_info": {
   "codemirror_mode": {
    "name": "ipython",
    "version": 3
   },
   "file_extension": ".py",
   "mimetype": "text/x-python",
   "name": "python",
   "nbconvert_exporter": "python",
   "pygments_lexer": "ipython3",
   "version": "3.10.0"
  }
 },
 "nbformat": 4,
 "nbformat_minor": 2
}
