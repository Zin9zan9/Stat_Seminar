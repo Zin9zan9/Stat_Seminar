{
 "cells": [
  {
   "cell_type": "code",
   "execution_count": 1,
   "metadata": {},
   "outputs": [],
   "source": [
    "import pandas as pd\n",
    "import statsmodels.api as sm\n",
    "import matplotlib.pyplot as plt\n",
    "import numpy as np\n",
    "from scipy import stats\n",
    "from sklearn.preprocessing import StandardScaler\n",
    "from statsmodels.stats.outliers_influence import variance_inflation_factor \n"
   ]
  },
  {
   "cell_type": "code",
   "execution_count": 10,
   "metadata": {},
   "outputs": [],
   "source": [
    "# Initialisierung von DataFrames und Data Cleaning\n",
    "df = pd.read_csv('Laptop-Preise.csv', sep=';', decimal=',')\n",
    "df = df[df.extern_Schnittstellen != 2300] # Ausreißer löschen\n",
    "df = df.reset_index(drop=True) # Reset Index\n",
    "df_noPrice = df.drop('Preis', axis=1)\n",
    "\n",
    "# Skalierung (Standardisierung) von df_noPrice\n",
    "col_names = df_noPrice.columns\n",
    "\n",
    "scaler = StandardScaler().fit(df_noPrice.values)\n",
    "df_noPrice = scaler.transform(df_noPrice.values)\n",
    "df_noPrice = pd.DataFrame(df_noPrice, columns=col_names)"
   ]
  },
  {
   "cell_type": "code",
   "execution_count": 71,
   "metadata": {},
   "outputs": [
    {
     "data": {
      "image/png": "[encoded data removed]",
      "text/plain": [
       "<Figure size 720x576 with 2 Axes>"
      ]
     },
     "metadata": {
      "needs_background": "light"
     },
     "output_type": "display_data"
    }
   ],
   "source": [
    "fig, (ax1, ax2) = plt.subplots(nrows=2, ncols=1, figsize=(10, 8), sharex=True)  # Subplots mit gemeinsamer X-Achse erstellen\n",
    "\n",
    "# Erster Boxplot\n",
    "ax1.boxplot(df['Preis'], vert=False, medianprops=dict(color='darkred'))\n",
    "ax1.set_title('Boxplot')\n",
    "\n",
    "# Zweiter Boxplot\n",
    "ax2.violinplot(df['Preis'], vert=False)\n",
    "ax2.set_title('Violin Plot')\n",
    "\n",
    "ax1.grid(True, axis='x')\n",
    "ax2.grid(True, axis='x')\n",
    "\n",
    "# Y-Achsenbeschriftung entfernen\n",
    "ax1.set_yticklabels([])\n",
    "ax2.set_yticklabels([])\n",
    "\n",
    "# Y-Achsen-Tick-Markierungen entfernen\n",
    "ax1.set_yticks([])\n",
    "ax2.set_yticks([])\n",
    "\n",
    "mean=df['Preis'].mean()\n",
    "median=df['Preis'].median()\n",
    "ax1.scatter(mean, 1, color='darkred', zorder=3)\n",
    "    \n",
    "# Add line conecting mean value and its label\n",
    "ax1.plot([mean, mean], [1, 1 + 0.2], ls=\"dotted\", color=\"black\", zorder=3, linewidth=0.8)\n",
    "ax1.plot([median, median], [1.085, 1 + 0.4], ls=\"dotted\", color=\"black\", zorder=3, linewidth=0.8)\n",
    "\n",
    "# Add mean value label.\n",
    "ax1.text(\n",
    "    mean,\n",
    "    1 + 0.20,\n",
    "    r\"$\\mu = $\" + str(round(mean, 2)),\n",
    "    fontsize=13,\n",
    "    va=\"center\",\n",
    "    bbox = dict(\n",
    "        facecolor=\"white\",\n",
    "        edgecolor=\"black\",\n",
    "        boxstyle=\"round\",\n",
    "        pad=0.15\n",
    "    ),\n",
    "    zorder=10 # to make sure the line is on top\n",
    ")\n",
    "\n",
    "ax1.text(\n",
    "    median,\n",
    "    1 + 0.40,\n",
    "    r\"$y_{0.5} = $\" + str(round(median, 2)),\n",
    "    fontsize=13,\n",
    "    va=\"center\",\n",
    "    bbox = dict(\n",
    "        facecolor=\"white\",\n",
    "        edgecolor=\"black\",\n",
    "        boxstyle=\"round\",\n",
    "        pad=0.15\n",
    "    ),\n",
    "    zorder=10 # to make sure the line is on top\n",
    ")\n",
    "\n",
    "# X-Achsenbeschriftung setzen\n",
    "plt.xlabel('Preis')\n",
    "\n",
    "plt.savefig('preis.pdf')\n",
    "plt.show()  # Diagramm anzeigen"
   ]
  },
  {
   "cell_type": "code",
   "execution_count": 75,
   "metadata": {},
   "outputs": [
    {
     "name": "stdout",
     "output_type": "stream",
     "text": [
      "\\begin{tabular}{lr}\n",
      "\\toprule\n",
      "{} &    Preis \\\\\n",
      "\\midrule\n",
      "count &  1038.00 \\\\\n",
      "mean  &  1333.96 \\\\\n",
      "std   &   748.48 \\\\\n",
      "min   &   219.90 \\\\\n",
      "25\\%   &   769.00 \\\\\n",
      "50\\%   &  1099.00 \\\\\n",
      "75\\%   &  1699.00 \\\\\n",
      "max   &  3999.00 \\\\\n",
      "\\bottomrule\n",
      "\\end{tabular}\n",
      "\n"
     ]
    },
    {
     "name": "stderr",
     "output_type": "stream",
     "text": [
      "C:\\Users\\Admin\\AppData\\Local\\Temp\\ipykernel_18044\\1328426878.py:3: FutureWarning: In future versions `DataFrame.to_latex` is expected to utilise the base implementation of `Styler.to_latex` for formatting and rendering. The arguments signature may therefore change. It is recommended instead to use `DataFrame.style.to_latex` which also contains additional functionality.\n",
      "  print(np.round(df['Preis'].describe(),2).to_latex())\n"
     ]
    },
    {
     "data": {
      "text/plain": [
       "1.1500160502824563"
      ]
     },
     "execution_count": 75,
     "metadata": {},
     "output_type": "execute_result"
    }
   ],
   "source": [
    "from scipy.stats import skew\n",
    "\n",
    "print(np.round(df['Preis'].describe(),2).to_latex())\n",
    "skew(df['Preis'])"
   ]
  },
  {
   "cell_type": "code",
   "execution_count": 3,
   "metadata": {},
   "outputs": [
    {
     "name": "stderr",
     "output_type": "stream",
     "text": [
      "c:\\Users\\Admin\\AppData\\Local\\Programs\\Python\\Python310\\lib\\site-packages\\statsmodels\\stats\\outliers_influence.py:195: RuntimeWarning: divide by zero encountered in double_scalars\n",
      "  vif = 1. / (1. - r_squared_i)\n"
     ]
    },
    {
     "name": "stdout",
     "output_type": "stream",
     "text": [
      "\\begin{tabular}{llr}\n",
      "\\toprule\n",
      "{} &                         feature &  VIF \\\\\n",
      "\\midrule\n",
      "0  &                           Kerne & 3.13 \\\\\n",
      "1  &                  Takt_Prozessor & 2.21 \\\\\n",
      "2  &                 Arbeitsspeicher & 2.42 \\\\\n",
      "3  &                    Bild_Display & 2.78 \\\\\n",
      "4  &                 Speicher_Grafik & 6.71 \\\\\n",
      "5  &           extern_Schnittstellen & 2.28 \\\\\n",
      "6  &                             HDD & 1.57 \\\\\n",
      "7  &                             SSD & 2.00 \\\\\n",
      "8  &                 Akku_Kapazitaet & 3.41 \\\\\n",
      "9  &                     PPI_Display & 2.14 \\\\\n",
      "10 &                     Pixelshader & 5.91 \\\\\n",
      "11 &       Typ_Arbeitsspeicher_DDR_4 & 1.81 \\\\\n",
      "12 &              Laufwerk_VORHANDEN & 1.83 \\\\\n",
      "13 &     Lautsprecher_UEBERDURCHSCHN & 1.37 \\\\\n",
      "14 &  Tastatur_Beleuchtung_vorhanden & 1.76 \\\\\n",
      "15 &   Fingerabdrucksensor_vorhanden & 1.74 \\\\\n",
      "16 &           Touchscreen_vorhanden & 1.47 \\\\\n",
      "17 &             Mobilfunk_vorhanden & 1.47 \\\\\n",
      "18 &                   NFC_vorhanden & 1.52 \\\\\n",
      "19 &                    Akku_Typ_ION & 1.68 \\\\\n",
      "20 &                        Marke_HP &  inf \\\\\n",
      "21 &                      Marke_ASUS &  inf \\\\\n",
      "22 &                      Marke_Acer &  inf \\\\\n",
      "23 &                     Marke_Apple &  inf \\\\\n",
      "24 &                      Marke_Dell &  inf \\\\\n",
      "25 &                    Marke_Lenovo &  inf \\\\\n",
      "26 &          Betriebssystem_Windows &  inf \\\\\n",
      "27 &              Betriebssystem_Mac &  inf \\\\\n",
      "28 &              Betriebssystem_DOS &  inf \\\\\n",
      "29 &            Betriebssystem_LINUX &  inf \\\\\n",
      "30 &             Betriebssystem_OHNE &  inf \\\\\n",
      "31 &        Mikrofon_Sound_vorhanden & 1.27 \\\\\n",
      "\\bottomrule\n",
      "\\end{tabular}\n",
      "\n"
     ]
    },
    {
     "name": "stderr",
     "output_type": "stream",
     "text": [
      "C:\\Users\\Admin\\AppData\\Local\\Temp\\ipykernel_18044\\3457183256.py:8: FutureWarning: In future versions `DataFrame.to_latex` is expected to utilise the base implementation of `Styler.to_latex` for formatting and rendering. The arguments signature may therefore change. It is recommended instead to use `DataFrame.style.to_latex` which also contains additional functionality.\n",
      "  print(vif_data.to_latex(escape=False, float_format=\"%.2f\"))\n"
     ]
    }
   ],
   "source": [
    "# VIF dataframe \n",
    "vif_data = pd.DataFrame() \n",
    "vif_data[\"feature\"] = df_noPrice.columns \n",
    "  \n",
    "# calculating VIF for each feature \n",
    "vif_data[\"VIF\"] = [variance_inflation_factor(df_noPrice.values, i) \n",
    "                          for i in range(len(df_noPrice.columns))]\n",
    "print(vif_data.to_latex(escape=False, float_format=\"%.2f\"))"
   ]
  },
  {
   "cell_type": "code",
   "execution_count": 4,
   "metadata": {},
   "outputs": [
    {
     "name": "stdout",
     "output_type": "stream",
     "text": [
      "                           feature       VIF\n",
      "0                            Kerne  3.126279\n",
      "1                   Takt_Prozessor  2.211199\n",
      "2                  Arbeitsspeicher  2.416486\n",
      "3                     Bild_Display  2.776998\n",
      "4                  Speicher_Grafik  6.709259\n",
      "5            extern_Schnittstellen  2.275336\n",
      "6                              HDD  1.571629\n",
      "7                              SSD  1.995732\n",
      "8                  Akku_Kapazitaet  3.414778\n",
      "9                      PPI_Display  2.136790\n",
      "10                     Pixelshader  5.914094\n",
      "11       Typ_Arbeitsspeicher_DDR_4  1.810548\n",
      "12              Laufwerk_VORHANDEN  1.831122\n",
      "13     Lautsprecher_UEBERDURCHSCHN  1.372499\n",
      "14  Tastatur_Beleuchtung_vorhanden  1.757679\n",
      "15   Fingerabdrucksensor_vorhanden  1.743949\n",
      "16           Touchscreen_vorhanden  1.474072\n",
      "17             Mobilfunk_vorhanden  1.469378\n",
      "18                   NFC_vorhanden  1.517686\n",
      "19                    Akku_Typ_ION  1.681354\n",
      "20                        Marke_HP  3.010897\n",
      "21                      Marke_ASUS  1.884489\n",
      "22                      Marke_Acer  1.887982\n",
      "23                     Marke_Apple  3.795565\n",
      "24                    Marke_Lenovo  2.649615\n",
      "25          Betriebssystem_Windows  3.111800\n",
      "26              Betriebssystem_DOS  1.554765\n",
      "27            Betriebssystem_LINUX  1.288158\n",
      "28        Mikrofon_Sound_vorhanden  1.269441\n"
     ]
    }
   ],
   "source": [
    "# Variablen löschen, die einen unendlich hohen VIF haben\n",
    "df_noPrice.drop(['Betriebssystem_OHNE', 'Betriebssystem_Mac', 'Marke_Dell'], axis=1, inplace=True) # Mac und Marke_Apple sind identische Merkmale\n",
    "vif_data = pd.DataFrame() \n",
    "vif_data[\"feature\"] = df_noPrice.columns \n",
    "  \n",
    "# calculating VIF for each feature \n",
    "vif_data[\"VIF\"] = [variance_inflation_factor(df_noPrice.values, i) \n",
    "                          for i in range(len(df_noPrice.columns))]\n",
    "print(vif_data)"
   ]
  },
  {
   "cell_type": "code",
   "execution_count": 5,
   "metadata": {},
   "outputs": [
    {
     "name": "stdout",
     "output_type": "stream",
     "text": [
      "\\begin{tabular}{llr}\n",
      "\\toprule\n",
      "{} &                         feature &  VIF \\\\\n",
      "\\midrule\n",
      "0  &                           Kerne & 2.67 \\\\\n",
      "1  &                  Takt_Prozessor & 1.82 \\\\\n",
      "2  &                 Arbeitsspeicher & 2.41 \\\\\n",
      "3  &                    Bild_Display & 2.59 \\\\\n",
      "4  &           extern_Schnittstellen & 2.22 \\\\\n",
      "5  &                             HDD & 1.48 \\\\\n",
      "6  &                             SSD & 1.95 \\\\\n",
      "7  &                 Akku_Kapazitaet & 3.25 \\\\\n",
      "8  &                     PPI_Display & 2.12 \\\\\n",
      "9  &       Typ_Arbeitsspeicher_DDR_4 & 1.79 \\\\\n",
      "10 &              Laufwerk_VORHANDEN & 1.81 \\\\\n",
      "11 &     Lautsprecher_UEBERDURCHSCHN & 1.37 \\\\\n",
      "12 &  Tastatur_Beleuchtung_vorhanden & 1.69 \\\\\n",
      "13 &   Fingerabdrucksensor_vorhanden & 1.72 \\\\\n",
      "14 &           Touchscreen_vorhanden & 1.47 \\\\\n",
      "15 &             Mobilfunk_vorhanden & 1.46 \\\\\n",
      "16 &                   NFC_vorhanden & 1.51 \\\\\n",
      "17 &                    Akku_Typ_ION & 1.66 \\\\\n",
      "18 &                        Marke_HP & 3.01 \\\\\n",
      "19 &                      Marke_ASUS & 1.83 \\\\\n",
      "20 &                      Marke_Acer & 1.88 \\\\\n",
      "21 &                     Marke_Apple & 3.78 \\\\\n",
      "22 &                    Marke_Lenovo & 2.65 \\\\\n",
      "23 &          Betriebssystem_Windows & 3.09 \\\\\n",
      "24 &              Betriebssystem_DOS & 1.55 \\\\\n",
      "25 &            Betriebssystem_LINUX & 1.28 \\\\\n",
      "26 &        Mikrofon_Sound_vorhanden & 1.26 \\\\\n",
      "\\bottomrule\n",
      "\\end{tabular}\n",
      "\n"
     ]
    },
    {
     "name": "stderr",
     "output_type": "stream",
     "text": [
      "C:\\Users\\Admin\\AppData\\Local\\Temp\\ipykernel_18044\\3503321875.py:8: FutureWarning: In future versions `DataFrame.to_latex` is expected to utilise the base implementation of `Styler.to_latex` for formatting and rendering. The arguments signature may therefore change. It is recommended instead to use `DataFrame.style.to_latex` which also contains additional functionality.\n",
      "  print(vif_data.to_latex(escape=False, float_format=\"%.2f\"))\n"
     ]
    }
   ],
   "source": [
    "df_noPrice.drop(['Speicher_Grafik', 'Pixelshader'], axis=1, inplace=True) # Mac und Marke_Apple sind identische Merkmale\n",
    "vif_data = pd.DataFrame() \n",
    "vif_data[\"feature\"] = df_noPrice.columns \n",
    "  \n",
    "# calculating VIF for each feature \n",
    "vif_data[\"VIF\"] = [variance_inflation_factor(df_noPrice.values, i) \n",
    "                          for i in range(len(df_noPrice.columns))]\n",
    "print(vif_data.to_latex(escape=False, float_format=\"%.2f\"))"
   ]
  },
  {
   "cell_type": "code",
   "execution_count": 7,
   "metadata": {},
   "outputs": [
    {
     "data": {
      "text/plain": [
       "27"
      ]
     },
     "execution_count": 7,
     "metadata": {},
     "output_type": "execute_result"
    }
   ],
   "source": [
    "len(df_noPrice.columns)"
   ]
  },
  {
   "cell_type": "code",
   "execution_count": 192,
   "metadata": {},
   "outputs": [
    {
     "name": "stdout",
     "output_type": "stream",
     "text": [
      "#######################\n",
      "SE von Preis = 23.2318\n",
      "#######################\n",
      "\n",
      "Kerne                             0.183023\n",
      "Takt_Prozessor                    0.095150\n",
      "Arbeitsspeicher                   0.264349\n",
      "Bild_Display                      0.011136\n",
      "extern_Schnittstellen             0.057341\n",
      "HDD                               0.018837\n",
      "SSD                               0.127256\n",
      "Akku_Kapazitaet                   0.263603\n",
      "PPI_Display                       0.105970\n",
      "Typ_Arbeitsspeicher_DDR_4         0.084911\n",
      "Laufwerk_VORHANDEN                0.032354\n",
      "Lautsprecher_UEBERDURCHSCHN       0.032860\n",
      "Tastatur_Beleuchtung_vorhanden    0.080195\n",
      "Fingerabdrucksensor_vorhanden     0.020397\n",
      "Touchscreen_vorhanden             0.047254\n",
      "Mobilfunk_vorhanden               0.121274\n",
      "NFC_vorhanden                     0.038070\n",
      "Akku_Typ_ION                      0.044036\n",
      "Marke_HP                          0.012819\n",
      "Marke_ASUS                        0.011147\n",
      "Marke_Acer                        0.004155\n",
      "Marke_Apple                       0.254216\n",
      "Marke_Lenovo                      0.088285\n",
      "Betriebssystem_Windows            0.127707\n",
      "Betriebssystem_DOS                0.014722\n",
      "Betriebssystem_LINUX              0.024108\n",
      "Mikrofon_Sound_vorhanden          0.009213\n",
      "dtype: float64\n"
     ]
    }
   ],
   "source": [
    "# OLS Model \n",
    "# fitting the model \n",
    "model = sm.OLS(df['Preis'], sm.add_constant(df_noPrice)).fit()\n",
    "print('#'*23, '\\n', 'SE von Preis = ', np.round(stats.sem(df['Preis']), 4), '\\n', '#'*23, '\\n', sep=\"\")\n",
    "\n",
    "\n",
    "std_y = df['Preis'].std()\n",
    "std_x = df_noPrice.std()\n",
    "\n",
    "# model.params[1:] sind alle Koeffizienten ohne Intercept\n",
    "# Multipliziert mit ihrer Standardabweichung und geteilt durch die Standardabweichung von y (Preis)\n",
    "standardized_coefs = abs(model.params[1:] * df_noPrice.std() / std_y)\n",
    "print(standardized_coefs.abs())\n"
   ]
  },
  {
   "cell_type": "code",
   "execution_count": 193,
   "metadata": {},
   "outputs": [
    {
     "name": "stdout",
     "output_type": "stream",
     "text": [
      "                            OLS Regression Results                            \n",
      "==============================================================================\n",
      "Dep. Variable:                  Preis   R-squared:                       0.867\n",
      "Model:                            OLS   Adj. R-squared:                  0.863\n",
      "Method:                 Least Squares   F-statistic:                     243.4\n",
      "Date:                Sun, 24 Mar 2024   Prob (F-statistic):               0.00\n",
      "Time:                        20:06:28   Log-Likelihood:                -7295.8\n",
      "No. Observations:                1038   AIC:                         1.465e+04\n",
      "Df Residuals:                    1010   BIC:                         1.479e+04\n",
      "Df Model:                          27                                         \n",
      "Covariance Type:            nonrobust                                         \n",
      "==================================================================================================\n",
      "                                     coef    std err          t      P>|t|      [0.025      0.975]\n",
      "--------------------------------------------------------------------------------------------------\n",
      "const                           1333.9633      8.593    155.246      0.000    1317.102    1350.825\n",
      "Kerne                            136.9234     14.035      9.756      0.000     109.382     164.465\n",
      "Takt_Prozessor                    71.1838     11.603      6.135      0.000      48.416      93.952\n",
      "Arbeitsspeicher                  197.7656     13.340     14.825      0.000     171.588     223.943\n",
      "Bild_Display                       8.3311     13.839      0.602      0.547     -18.825      35.487\n",
      "extern_Schnittstellen             42.8980     12.794      3.353      0.001      17.793      68.003\n",
      "HDD                              -14.0925     10.461     -1.347      0.178     -34.621       6.436\n",
      "SSD                               95.2029     12.011      7.926      0.000      71.633     118.773\n",
      "Akku_Kapazitaet                  197.2070     15.495     12.728      0.000     166.802     227.612\n",
      "PPI_Display                       79.2782     12.508      6.338      0.000      54.733     103.823\n",
      "Typ_Arbeitsspeicher_DDR_4        -63.5239     11.480     -5.533      0.000     -86.052     -40.996\n",
      "Laufwerk_VORHANDEN                24.2047     11.554      2.095      0.036       1.532      46.877\n",
      "Lautsprecher_UEBERDURCHSCHN       24.5836     10.050      2.446      0.015       4.863      44.305\n",
      "Tastatur_Beleuchtung_vorhanden    59.9955     11.184      5.364      0.000      38.048      81.943\n",
      "Fingerabdrucksensor_vorhanden     15.2593     11.257      1.355      0.176      -6.831      37.350\n",
      "Touchscreen_vorhanden             35.3520     10.425      3.391      0.001      14.895      55.809\n",
      "Mobilfunk_vorhanden               90.7278     10.367      8.752      0.000      70.384     111.071\n",
      "NFC_vorhanden                     28.4808     10.543      2.701      0.007       7.791      49.170\n",
      "Akku_Typ_ION                     -32.9441     11.058     -2.979      0.003     -54.643     -11.245\n",
      "Marke_HP                           9.5900     14.905      0.643      0.520     -19.658      38.838\n",
      "Marke_ASUS                         8.3393     11.611      0.718      0.473     -14.445      31.124\n",
      "Marke_Acer                         3.1084     11.793      0.264      0.792     -20.033      26.250\n",
      "Marke_Apple                      190.1846     16.697     11.390      0.000     157.420     222.949\n",
      "Marke_Lenovo                      66.0480     13.976      4.726      0.000      38.623      93.473\n",
      "Betriebssystem_Windows            95.5401     15.105      6.325      0.000      65.900     125.180\n",
      "Betriebssystem_DOS                11.0142     10.709      1.028      0.304     -10.001      32.029\n",
      "Betriebssystem_LINUX              18.0358      9.735      1.853      0.064      -1.068      37.139\n",
      "Mikrofon_Sound_vorhanden           6.8925      9.642      0.715      0.475     -12.027      25.812\n",
      "==============================================================================\n",
      "Omnibus:                      106.906   Durbin-Watson:                   1.854\n",
      "Prob(Omnibus):                  0.000   Jarque-Bera (JB):              190.938\n",
      "Skew:                           0.677   Prob(JB):                     3.45e-42\n",
      "Kurtosis:                       4.607   Cond. No.                         5.60\n",
      "==============================================================================\n",
      "\n",
      "Notes:\n",
      "[1] Standard Errors assume that the covariance matrix of the errors is correctly specified.\n"
     ]
    }
   ],
   "source": [
    "print(model.summary())"
   ]
  },
  {
   "cell_type": "code",
   "execution_count": 194,
   "metadata": {},
   "outputs": [
    {
     "name": "stdout",
     "output_type": "stream",
     "text": [
      "Arbeitsspeicher                   0.264349\n",
      "Akku_Kapazitaet                   0.263603\n",
      "Marke_Apple                       0.254216\n",
      "Kerne                             0.183023\n",
      "Betriebssystem_Windows            0.127707\n",
      "SSD                               0.127256\n",
      "Mobilfunk_vorhanden               0.121274\n",
      "PPI_Display                       0.105970\n",
      "Takt_Prozessor                    0.095150\n",
      "Marke_Lenovo                      0.088285\n",
      "Typ_Arbeitsspeicher_DDR_4         0.084911\n",
      "Tastatur_Beleuchtung_vorhanden    0.080195\n",
      "dtype: float64\n"
     ]
    }
   ],
   "source": [
    "\n",
    "sorted_coefs = standardized_coefs.sort_values(ascending=False)\n",
    "\n",
    "# Print the sorted values\n",
    "# print(sorted_coefs)\n",
    "\n",
    "# Get the top 5 largest values\n",
    "top_5_coefs = sorted_coefs.head(12)\n",
    "print(top_5_coefs)"
   ]
  },
  {
   "cell_type": "code",
   "execution_count": 195,
   "metadata": {},
   "outputs": [
    {
     "data": {
      "image/png": "[encoded data removed]",
      "text/plain": [
       "<Figure size 864x432 with 1 Axes>"
      ]
     },
     "metadata": {},
     "output_type": "display_data"
    }
   ],
   "source": [
    "# plt.style.use('ggplot')\n",
    "plt.style.use('seaborn-whitegrid')\n",
    "# Sort the standardized_coefs in descending order\n",
    "sorted_coefs = standardized_coefs.sort_values(ascending=False)\n",
    "\n",
    "# Plot the absolute values of coefficients as points with labels\n",
    "plt.figure(figsize=(12, 6))\n",
    "plt.scatter(sorted_coefs.index, sorted_coefs.values, marker='o', color='darkblue')\n",
    "plt.ylabel('Standardisierter Regressionskoeffizient')\n",
    "plt.xticks(rotation=90)\n",
    "\n",
    "# Add labels to each point\n",
    "# for i, (variable, coef) in enumerate(zip(sorted_coefs.index, sorted_coefs.values)):\n",
    "#     plt.text(i, coef, f'{variable}\\n{coef:.3f}', ha='center', va='bottom', rotation=45, fontsize=8)\n",
    "\n",
    "plt.axvline(x=4.5, color='red', linestyle='--', linewidth = 0.5)\n",
    "plt.axvline(x=9.5, color='red', linestyle='--', linewidth = 0.5)\n",
    "\n",
    "plt.grid(True)\n",
    "plt.tight_layout()\n",
    "plt.savefig('std_regressionskoeffizienten.pdf') \n",
    "plt.show()\n"
   ]
  },
  {
   "cell_type": "markdown",
   "metadata": {},
   "source": [
    "Wir können anhan der standardisierten Regressionskoeffizienten erkennen, dass die Variablen \n",
    "Akku_Kapazitaet        0.263387\n",
    "Arbeitsspeicher        0.259367\n",
    "Kerne                  0.141045\n",
    "Mobilfunk_vorhanden    0.126480\n",
    "SSD                    0.114271\n",
    "einen besonders hohen Erklärungsgehalt bieten. Sie besitzen betragsmäßig den höchsten standardisierten Regressionskoeffizienten. Wir nehmen für künftige Untersuchungen diese fünf Variablen. "
   ]
  },
  {
   "cell_type": "code",
   "execution_count": 196,
   "metadata": {},
   "outputs": [
    {
     "data": {
      "text/html": [
       "<div>\n",
       "<style scoped>\n",
       "    .dataframe tbody tr th:only-of-type {\n",
       "        vertical-align: middle;\n",
       "    }\n",
       "\n",
       "    .dataframe tbody tr th {\n",
       "        vertical-align: top;\n",
       "    }\n",
       "\n",
       "    .dataframe thead th {\n",
       "        text-align: right;\n",
       "    }\n",
       "</style>\n",
       "<table border=\"1\" class=\"dataframe\">\n",
       "  <thead>\n",
       "    <tr style=\"text-align: right;\">\n",
       "      <th></th>\n",
       "      <th>Arbeitsspeicher</th>\n",
       "      <th>Akku_Kapazitaet</th>\n",
       "      <th>Marke_Apple</th>\n",
       "      <th>Kerne</th>\n",
       "      <th>Betriebssystem_Windows</th>\n",
       "      <th>SSD</th>\n",
       "      <th>Mobilfunk_vorhanden</th>\n",
       "      <th>PPI_Display</th>\n",
       "      <th>Takt_Prozessor</th>\n",
       "      <th>Marke_Lenovo</th>\n",
       "      <th>Typ_Arbeitsspeicher_DDR_4</th>\n",
       "      <th>Tastatur_Beleuchtung_vorhanden</th>\n",
       "    </tr>\n",
       "  </thead>\n",
       "  <tbody>\n",
       "    <tr>\n",
       "      <th>count</th>\n",
       "      <td>1038.00</td>\n",
       "      <td>1038.00</td>\n",
       "      <td>1038.00</td>\n",
       "      <td>1038.00</td>\n",
       "      <td>1038.00</td>\n",
       "      <td>1038.00</td>\n",
       "      <td>1038.00</td>\n",
       "      <td>1038.00</td>\n",
       "      <td>1038.00</td>\n",
       "      <td>1038.00</td>\n",
       "      <td>1038.00</td>\n",
       "      <td>1038.00</td>\n",
       "    </tr>\n",
       "    <tr>\n",
       "      <th>mean</th>\n",
       "      <td>11.86</td>\n",
       "      <td>55.02</td>\n",
       "      <td>0.07</td>\n",
       "      <td>4.24</td>\n",
       "      <td>0.85</td>\n",
       "      <td>394.00</td>\n",
       "      <td>0.08</td>\n",
       "      <td>160.79</td>\n",
       "      <td>2011.27</td>\n",
       "      <td>0.23</td>\n",
       "      <td>0.88</td>\n",
       "      <td>0.73</td>\n",
       "    </tr>\n",
       "    <tr>\n",
       "      <th>std</th>\n",
       "      <td>6.05</td>\n",
       "      <td>16.20</td>\n",
       "      <td>0.25</td>\n",
       "      <td>1.31</td>\n",
       "      <td>0.36</td>\n",
       "      <td>256.86</td>\n",
       "      <td>0.27</td>\n",
       "      <td>43.17</td>\n",
       "      <td>405.89</td>\n",
       "      <td>0.42</td>\n",
       "      <td>0.33</td>\n",
       "      <td>0.44</td>\n",
       "    </tr>\n",
       "    <tr>\n",
       "      <th>min</th>\n",
       "      <td>4.00</td>\n",
       "      <td>24.00</td>\n",
       "      <td>0.00</td>\n",
       "      <td>2.00</td>\n",
       "      <td>0.00</td>\n",
       "      <td>0.00</td>\n",
       "      <td>0.00</td>\n",
       "      <td>96.00</td>\n",
       "      <td>1100.00</td>\n",
       "      <td>0.00</td>\n",
       "      <td>0.00</td>\n",
       "      <td>0.00</td>\n",
       "    </tr>\n",
       "    <tr>\n",
       "      <th>25%</th>\n",
       "      <td>8.00</td>\n",
       "      <td>45.00</td>\n",
       "      <td>0.00</td>\n",
       "      <td>4.00</td>\n",
       "      <td>1.00</td>\n",
       "      <td>256.00</td>\n",
       "      <td>0.00</td>\n",
       "      <td>141.00</td>\n",
       "      <td>1600.00</td>\n",
       "      <td>0.00</td>\n",
       "      <td>1.00</td>\n",
       "      <td>0.00</td>\n",
       "    </tr>\n",
       "    <tr>\n",
       "      <th>50%</th>\n",
       "      <td>8.00</td>\n",
       "      <td>51.00</td>\n",
       "      <td>0.00</td>\n",
       "      <td>4.00</td>\n",
       "      <td>1.00</td>\n",
       "      <td>256.00</td>\n",
       "      <td>0.00</td>\n",
       "      <td>141.00</td>\n",
       "      <td>1800.00</td>\n",
       "      <td>0.00</td>\n",
       "      <td>1.00</td>\n",
       "      <td>1.00</td>\n",
       "    </tr>\n",
       "    <tr>\n",
       "      <th>75%</th>\n",
       "      <td>16.00</td>\n",
       "      <td>60.00</td>\n",
       "      <td>0.00</td>\n",
       "      <td>4.00</td>\n",
       "      <td>1.00</td>\n",
       "      <td>512.00</td>\n",
       "      <td>0.00</td>\n",
       "      <td>165.00</td>\n",
       "      <td>2300.00</td>\n",
       "      <td>0.00</td>\n",
       "      <td>1.00</td>\n",
       "      <td>1.00</td>\n",
       "    </tr>\n",
       "    <tr>\n",
       "      <th>max</th>\n",
       "      <td>32.00</td>\n",
       "      <td>99.00</td>\n",
       "      <td>1.00</td>\n",
       "      <td>8.00</td>\n",
       "      <td>1.00</td>\n",
       "      <td>2048.00</td>\n",
       "      <td>1.00</td>\n",
       "      <td>331.00</td>\n",
       "      <td>3400.00</td>\n",
       "      <td>1.00</td>\n",
       "      <td>1.00</td>\n",
       "      <td>1.00</td>\n",
       "    </tr>\n",
       "  </tbody>\n",
       "</table>\n",
       "</div>"
      ],
      "text/plain": [
       "       Arbeitsspeicher  Akku_Kapazitaet  Marke_Apple    Kerne  \\\n",
       "count          1038.00          1038.00      1038.00  1038.00   \n",
       "mean             11.86            55.02         0.07     4.24   \n",
       "std               6.05            16.20         0.25     1.31   \n",
       "min               4.00            24.00         0.00     2.00   \n",
       "25%               8.00            45.00         0.00     4.00   \n",
       "50%               8.00            51.00         0.00     4.00   \n",
       "75%              16.00            60.00         0.00     4.00   \n",
       "max              32.00            99.00         1.00     8.00   \n",
       "\n",
       "       Betriebssystem_Windows      SSD  Mobilfunk_vorhanden  PPI_Display  \\\n",
       "count                 1038.00  1038.00              1038.00      1038.00   \n",
       "mean                     0.85   394.00                 0.08       160.79   \n",
       "std                      0.36   256.86                 0.27        43.17   \n",
       "min                      0.00     0.00                 0.00        96.00   \n",
       "25%                      1.00   256.00                 0.00       141.00   \n",
       "50%                      1.00   256.00                 0.00       141.00   \n",
       "75%                      1.00   512.00                 0.00       165.00   \n",
       "max                      1.00  2048.00                 1.00       331.00   \n",
       "\n",
       "       Takt_Prozessor  Marke_Lenovo  Typ_Arbeitsspeicher_DDR_4  \\\n",
       "count         1038.00       1038.00                    1038.00   \n",
       "mean          2011.27          0.23                       0.88   \n",
       "std            405.89          0.42                       0.33   \n",
       "min           1100.00          0.00                       0.00   \n",
       "25%           1600.00          0.00                       1.00   \n",
       "50%           1800.00          0.00                       1.00   \n",
       "75%           2300.00          0.00                       1.00   \n",
       "max           3400.00          1.00                       1.00   \n",
       "\n",
       "       Tastatur_Beleuchtung_vorhanden  \n",
       "count                         1038.00  \n",
       "mean                             0.73  \n",
       "std                              0.44  \n",
       "min                              0.00  \n",
       "25%                              0.00  \n",
       "50%                              1.00  \n",
       "75%                              1.00  \n",
       "max                              1.00  "
      ]
     },
     "execution_count": 196,
     "metadata": {},
     "output_type": "execute_result"
    }
   ],
   "source": [
    "np.round(df[top_5_coefs.index].describe(), 2)"
   ]
  }
 ],
 "metadata": {
  "kernelspec": {
   "display_name": "Python 3",
   "language": "python",
   "name": "python3"
  },
  "language_info": {
   "codemirror_mode": {
    "name": "ipython",
    "version": 3
   },
   "file_extension": ".py",
   "mimetype": "text/x-python",
   "name": "python",
   "nbconvert_exporter": "python",
   "pygments_lexer": "ipython3",
   "version": "3.10.0"
  }
 },
 "nbformat": 4,
 "nbformat_minor": 2
}
