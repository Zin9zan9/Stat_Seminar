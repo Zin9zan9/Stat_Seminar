{
 "cells": [
  {
   "cell_type": "code",
   "execution_count": 167,
   "metadata": {},
   "outputs": [],
   "source": [
    "import pandas as pd\n",
    "import numpy as np\n",
    "from scipy import stats\n",
    "from sklearn.model_selection import train_test_split\n",
    "from sklearn.neighbors import KDTree\n",
    "from sklearn.preprocessing import StandardScaler\n",
    "\n",
    "rng = np.random.RandomState(0)"
   ]
  },
  {
   "cell_type": "code",
   "execution_count": 152,
   "metadata": {},
   "outputs": [],
   "source": [
    "# Initialisierung von DataFrames und Data Cleaning\n",
    "df = pd.read_csv('Laptop-Preise.csv', sep=';', decimal=',')\n",
    "df = df[df.extern_Schnittstellen != 2300] # Ausreißer löschen\n",
    "df = df.reset_index(drop=True) # Reset Index\n",
    "df.drop(['Betriebssystem_OHNE', 'Betriebssystem_Mac', 'Marke_Dell'], axis=1) # Mac und Marke_Apple sind identische Merkmale\n",
    "df_noPrice = df.drop('Preis', axis=1)\n",
    "error_mse = pd.DataFrame(columns=['chance', 'LM', 'KNN_1', 'KNN_3', 'KNN_5'])\n",
    "error_stdErr = pd.DataFrame(columns=['chance', 'LM', 'KNN_1', 'KNN_3', 'KNN_5'])"
   ]
  },
  {
   "cell_type": "code",
   "execution_count": 153,
   "metadata": {},
   "outputs": [],
   "source": [
    "# Skalierung (Standardisierung) von df_noPrice\n",
    "col_names = df_noPrice.columns\n",
    "scaler = StandardScaler().fit(df_noPrice.values)\n",
    "df_noPrice = scaler.transform(df_noPrice.values)\n",
    "df_noPrice = pd.DataFrame(df_noPrice, columns=col_names)"
   ]
  },
  {
   "cell_type": "code",
   "execution_count": 154,
   "metadata": {},
   "outputs": [],
   "source": [
    "# Inputs sind einfache DataFrames\n",
    "# test_values: Exogene von Delete\n",
    "# test_labels: Preis von Delete\n",
    "# train_values: Exogene von Keep\n",
    "# train_labels: Preis von Keep\n",
    "\n",
    "train_values, test_values, train_labels, test_labels = train_test_split(df_noPrice, df['Preis'], test_size=0.01)\n",
    "\n",
    "def del_ran(df_exog, labels, chance):\n",
    "    rand_array = np.random.rand(df_exog.shape[0])\n",
    "    delete_entries = rand_array < chance\n",
    "    keep_entries = rand_array >= chance\n",
    "    \n",
    "    return [df_exog[delete_entries], labels[delete_entries], df_exog[keep_entries], labels[keep_entries]]\n",
    "\n",
    "    # return {'keep' : df.iloc[keep_entries], 'delete' : df.iloc[delete_entries]}\n",
    "\n",
    "\n",
    "# Umschreiben, dass es auch mit der aktuellen impute-Methode funktioniert\n",
    "temp = del_ran(df_exog = df_noPrice, labels = df['Preis'], chance = 0.01)"
   ]
  },
  {
   "cell_type": "code",
   "execution_count": 168,
   "metadata": {},
   "outputs": [],
   "source": [
    "def impute(test_values, test_labels, train_values, train_labels):\n",
    "    \n",
    "    tree = KDTree(train_values.values, leaf_size=5)\n",
    "\n",
    "    imputed_values_knn_1 = []\n",
    "    imputed_values_knn_3 = []\n",
    "    imputed_values_knn_5 = []\n",
    "\n",
    "    for index, entry in enumerate(test_values.values):\n",
    " \n",
    "        dist, ind = tree.query([entry], k=5)\n",
    "        ind = ind[0]\n",
    "\n",
    "        current_impute_knn_1 = np.mean(train_labels.values[ind][0])\n",
    "        current_impute_knn_3 = np.mean(train_labels.values[ind][:3])\n",
    "        current_impute_knn_5 = np.mean(train_labels.values[ind])\n",
    "\n",
    "        imputed_values_knn_1.append(current_impute_knn_1)\n",
    "        imputed_values_knn_3.append(current_impute_knn_3)\n",
    "        imputed_values_knn_5.append(current_impute_knn_5)\n",
    "       \n",
    "        # print(train_labels.values[ind])\n",
    "        # print(current_impute_knn_1//1, current_impute_knn_3//1, current_impute_knn_5//1)\n",
    "        # print(test_labels.values[index])\n",
    "        # print(train_values.values[ind])\n",
    "\n",
    "    mse_knn_1 = np.mean((test_labels.values - imputed_values_knn_1)**2)\n",
    "    mse_knn_3 = np.mean((test_labels.values - imputed_values_knn_3)**2)\n",
    "    mse_knn_5 = np.mean((test_labels.values - imputed_values_knn_5)**2)\n",
    "\n",
    "    sem_knn_1 = stats.sem(list(train_labels.values)+imputed_values_knn_1)\n",
    "    sem_knn_3 = stats.sem(list(train_labels.values)+imputed_values_knn_3)\n",
    "    sem_knn_5 = stats.sem(list(train_labels.values)+imputed_values_knn_5)\n",
    "\n",
    "\n",
    "    return mse_knn_1, mse_knn_3, mse_knn_5, sem_knn_1, sem_knn_3, sem_knn_5"
   ]
  },
  {
   "cell_type": "code",
   "execution_count": 169,
   "metadata": {},
   "outputs": [
    {
     "data": {
      "text/plain": [
       "(114200.0,\n",
       " 124985.96206349207,\n",
       " 157931.2892,\n",
       " 23.227741243284537,\n",
       " 23.22853609608134,\n",
       " 23.220854878985932)"
      ]
     },
     "execution_count": 169,
     "metadata": {},
     "output_type": "execute_result"
    }
   ],
   "source": [
    "impute(temp[0], temp[1], temp[2], temp[3])"
   ]
  },
  {
   "cell_type": "code",
   "execution_count": null,
   "metadata": {},
   "outputs": [],
   "source": [
    "k = temp['keep']\n",
    "d = temp['delete']\n",
    "t = d.iloc[0].values.reshape(1, -1)\n",
    "\n",
    "print(len(t))\n",
    "print(k.shape)\n",
    "\n",
    "tree = KDTree(temp['keep'], leaf_size=5)              \n",
    "dist, ind = tree.query(t, k=3)\n",
    "\n",
    "\n",
    "print(dist)\n",
    "print(ind[0])\n",
    "# [641 501 201]\n",
    "\n",
    "pd.DataFrame(t)\n",
    "pd.DataFrame(k.at(ind[0]))\n",
    "\n",
    "# for t in d.iterrows():\n",
    "#     dist, ind = tree.query(t, k=3)\n",
    "#     print(ind, dist)"
   ]
  }
 ],
 "metadata": {
  "kernelspec": {
   "display_name": "Python 3",
   "language": "python",
   "name": "python3"
  },
  "language_info": {
   "codemirror_mode": {
    "name": "ipython",
    "version": 3
   },
   "file_extension": ".py",
   "mimetype": "text/x-python",
   "name": "python",
   "nbconvert_exporter": "python",
   "pygments_lexer": "ipython3",
   "version": "3.10.0"
  }
 },
 "nbformat": 4,
 "nbformat_minor": 2
}
